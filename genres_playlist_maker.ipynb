{
 "cells": [
  {
   "cell_type": "code",
   "execution_count": 2,
   "metadata": {},
   "outputs": [],
   "source": [
    "import spotipy\n",
    "from spotipy.oauth2 import SpotifyOAuth\n",
    "import json\n",
    "import os \n",
    "from saved_tracks_extractor import get_audio_features_and_analysis, get_genres\n",
    "from dotenv import load_dotenv\n",
    "\n",
    "# Configura le tue credenziali Spotify\n",
    "load_dotenv()\n",
    "client_id = os.getenv('SPOTIPY_CLIENT_ID')\n",
    "client_secret = os.getenv('SPOTIPY_CLIENT_SECRET')\n",
    "redirect_uri = os.getenv('SPOTIPY_REDIRECT_URI')\n",
    "scope = \"user-library-read playlist-modify-public\"\n",
    "\n",
    "# sp = spotipy.Spotify(auth_manager=SpotifyOAuth(client_id=client_id,\n",
    "#                                                client_secret=client_secret,\n",
    "#                                                redirect_uri=redirect_uri,\n",
    "#                                                scope=scope))\n",
    "\n",
    "\n",
    "sp = spotipy.Spotify(auth_manager=SpotifyOAuth(scope=scope))"
   ]
  },
  {
   "cell_type": "code",
   "execution_count": null,
   "metadata": {},
   "outputs": [],
   "source": [
    "target_user_id = '31ighcy6cpa3jsteh7imcasje2ea'"
   ]
  },
  {
   "cell_type": "code",
   "execution_count": null,
   "metadata": {},
   "outputs": [],
   "source": [
    "# Initialize an empty list to store the results\n",
    "track_data = {}\n",
    "\n",
    "# Set the batch size (max 50 for Spotify API)\n",
    "batch_size = 20\n",
    "\n",
    "# Get the total number of saved tracks\n",
    "total_tracks = sp.current_user_saved_tracks(limit=1)['total']\n",
    "print(f\"Total tracks: {total_tracks}\")\n",
    "\n",
    "total_tracks = 60\n",
    "# Loop through batches of saved tracks\n",
    "for offset in range(0, total_tracks, batch_size):\n",
    "    tracks = sp.current_user_saved_tracks(limit=batch_size, offset=offset)\n",
    "    track_ids = [item['track']['id'] for item in tracks['items']]\n",
    "    print(f\"Track IDs: {track_ids}\")    \n",
    "    # Apply the get_audio_features_and_analysis function\n",
    "    track_data_old = get_genres(track_ids, sp)\n",
    "    # Append the result to the list\n",
    "    if offset==0:\n",
    "        track_data=track_data_old\n",
    "    else:\n",
    "        for key in track_data:\n",
    "            track_data[key]+=track_data_old[key]\n",
    "    \n",
    "print(track_data.keys())\n",
    "# Print or process the results as needed\n",
    "# for result in results:\n",
    "#     print(\"---\")\n",
    "#     print(json.dumps(result, indent=4))"
   ]
  },
  {
   "cell_type": "code",
   "execution_count": null,
   "metadata": {},
   "outputs": [],
   "source": [
    "print(track_data['genres'])\n",
    "print(len(track_data['id']))"
   ]
  },
  {
   "cell_type": "code",
   "execution_count": null,
   "metadata": {},
   "outputs": [],
   "source": [
    "genre_dict= dict(zip(track_data['id'],track_data['genres']))\n",
    "print(genre_dict)\n"
   ]
  },
  {
   "cell_type": "code",
   "execution_count": null,
   "metadata": {},
   "outputs": [],
   "source": [
    "genre_list=[]\n",
    "for song in genre_dict:\n",
    "    for genre in genre_dict[song]:\n",
    "        if genre not in genre_list:\n",
    "            genre_list.append(genre)\n",
    "\n",
    "genre_list.append('no genre')\n",
    "print(genre_list)"
   ]
  },
  {
   "cell_type": "code",
   "execution_count": null,
   "metadata": {},
   "outputs": [],
   "source": [
    "playlist_dict={}\n",
    "no_genre_songs=[]\n",
    "for genre in genre_list:\n",
    "    song_list=[]\n",
    "    for song in genre_dict:\n",
    "        if genre in genre_dict[song] and song not in song_list:\n",
    "            song_list.append(song)\n",
    "        if not genre_dict[song] and song not in no_genre_songs:\n",
    "            no_genre_songs.append(song)\n",
    "\n",
    "    playlist_dict[genre]=song_list\n",
    "\n",
    "playlist_dict['no genre']=no_genre_songs\n",
    "\n",
    "\n",
    "print(len(list(playlist_dict.keys())))\n",
    "print(playlist_dict)\n",
    "print(len(playlist_dict['no genre']))\n"
   ]
  },
  {
   "cell_type": "code",
   "execution_count": null,
   "metadata": {},
   "outputs": [],
   "source": [
    "batch_size=50\n",
    "user_playlists=[]\n",
    "\n",
    "for offset in range(0, 9000, batch_size):\n",
    "    user_playlists_batch=sp.user_playlists(user=target_user_id,limit=batch_size,offset=offset)\n",
    "    user_playlists += user_playlists_batch[\"items\"]\n",
    "    print(len(user_playlists_batch[\"items\"]))\n",
    "    if len(user_playlists_batch[\"items\"]) < batch_size:\n",
    "        break"
   ]
  },
  {
   "cell_type": "code",
   "execution_count": null,
   "metadata": {},
   "outputs": [],
   "source": [
    "uplaylist_test=sp.user_playlists(user=target_user_id)\n",
    "print(type(user_playlists_batch['items']))\n",
    "print(len(uplaylist_test))\n",
    "print(type(uplaylist_test))\n",
    "print(len(uplaylist_test[\"items\"]))\n",
    "#print(json.dumps(uplaylist_test,indent=2))\n",
    "print(len(user_playlists))\n",
    "print(json.dumps(user_playlists[0],indent=2))\n",
    "#ignore this cell"
   ]
  },
  {
   "cell_type": "code",
   "execution_count": null,
   "metadata": {},
   "outputs": [],
   "source": [
    "for key in list(playlist_dict.keys()):\n",
    "    for playlist in user_playlists:\n",
    "        if playlist['name'] == key:\n",
    "            x=sp.user_playlist_unfollow(user=target_user_id,playlist_id=playlist['id']) \n",
    "            #unfollow cleans the account from any playlist with the same name\n",
    "\n",
    "    playlist_created=sp.user_playlist_create(user=target_user_id,name=key,public=True,collaborative=False,description='')\n",
    "    #creates the playlist for the name 'key'\n",
    "\n",
    "    for songs in playlist_dict[key]:\n",
    "        playlist_songlist=sp.user_playlist_add_tracks(user=target_user_id, playlist_id=playlist_created['id'], tracks=playlist_dict[key], position=None)\n",
    "    #adds songs saved in the genre-songs dictionary in the playlist created before"
   ]
  },
  {
   "cell_type": "code",
   "execution_count": null,
   "metadata": {},
   "outputs": [],
   "source": []
  }
 ],
 "metadata": {
  "kernelspec": {
   "display_name": "Python 3",
   "language": "python",
   "name": "python3"
  },
  "language_info": {
   "codemirror_mode": {
    "name": "ipython",
    "version": 3
   },
   "file_extension": ".py",
   "mimetype": "text/x-python",
   "name": "python",
   "nbconvert_exporter": "python",
   "pygments_lexer": "ipython3",
   "version": "3.12.5"
  }
 },
 "nbformat": 4,
 "nbformat_minor": 2
}
