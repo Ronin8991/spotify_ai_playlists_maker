{
 "cells": [
  {
   "cell_type": "code",
   "execution_count": 1,
   "metadata": {},
   "outputs": [],
   "source": [
    "import spotipy\n",
    "from spotipy.oauth2 import SpotifyOAuth\n",
    "import json\n",
    "import os \n",
    "from saved_tracks_extractor import get_audio_features_and_analysis, get_genres\n",
    "from dotenv import load_dotenv\n",
    "\n",
    "# Configura le tue credenziali Spotify\n",
    "load_dotenv()\n",
    "client_id = os.getenv('YOUR_CLIENT_ID')\n",
    "client_secret = os.getenv('YOUR_CLIENT_SECRET')\n",
    "redirect_uri = os.getenv('YOUR_REDIRECT_URI')\n",
    "scope = \"user-library-read playlist-modify-public\"\n",
    "\n",
    "# sp = spotipy.Spotify(auth_manager=SpotifyOAuth(client_id=client_id,\n",
    "#                                                client_secret=client_secret,\n",
    "#                                                redirect_uri=redirect_uri,\n",
    "#                                                scope=scope))\n",
    "\n",
    "\n",
    "sp = spotipy.Spotify(auth_manager=SpotifyOAuth(scope=scope))"
   ]
  },
  {
   "cell_type": "code",
   "execution_count": 2,
   "metadata": {},
   "outputs": [],
   "source": [
    "target_user_id = '31ighcy6cpa3jsteh7imcasje2ea'"
   ]
  },
  {
   "cell_type": "code",
   "execution_count": 3,
   "metadata": {},
   "outputs": [
    {
     "name": "stdout",
     "output_type": "stream",
     "text": [
      "Total tracks: 100\n",
      "Track IDs: ['4o6BgsqLIBViaGVbx5rbRk', '5t4rndvpGfblr16xsSZCZ2', '05HbL11gtNMrCPFadpwoRg', '4de8RbgaXo4j0skA36mPU2', '1tPOHHQY0x7uUNAHnwTjlx', '3mUM0957VDc8b5ynZr1Gpn', '5Q2yV1wgKENv1XsCTB7nma', '6NQXCldnycOtVhlh33uHRr', '35o92ikbXQApq9xBjLgbnV', '596eSWS6SoVNLoe9h1CMXn', '0ClP3NmCW8WBitkdFqKJ0x', '0RtxITcYXbdcoDXhwAgNWd', '6F7nb8f7ty7P4vLQeFL1lq', '6Mc4X5zjF3GtHPvIrs14fe', '1dLUGmTp8Fy9Sl0p2Tn7T1', '5is0Z9t8qzQt3bWFgbhYTw', '4m1h2nXCfcDfRY3WPY21ko', '66IrwRUKnmMPiYpBfEGYCm', '2GXA1T0GBh3pXZMTA50OhL', '0pwObEOHolQZSldJ2q1wpy']\n",
      "Track IDs: ['6AioOohg4bQZFA4jIYQQ2r', '1lATXTBJDHwawvT1UfxWu3', '6DyywdbmTzlmXBzG9ym7Rt', '55mJleti2WfWEFNFcBduhc', '2hnrioxoZCljW6VbbO0Bvv', '54zCGbgOeaOXsEFLgLuwzB', '7upG8kgnfF4yfaOGNKHXJg', '7anlKmDzahsUb5dlDhrYYr', '53Gs2a7kV4h6tBN0fCTtUY', '3ZWPE72rn7gB2uHFe5s0HJ', '4nrdKOChOn750sd3tI40OE', '0UqwIL59AsdSTdmewiWXvj', '09fNyeCFUbrTor4DY7kX2b', '7GbNB9IGxXN9QiX8x83TXI', '07aCEOE0LXRa0cxdrrpWlH', '3MZgRR5kAyMcgnn3LuhgQK', '6xnl08BI56Ej3dnGRqc6rD', '5hA2fMYVdzmy1QTgyhcwkZ', '6iENYbkeXO848sFHX3HzJE', '5xZcxt2Qxd2NjxpvUlgsZo']\n",
      "Track IDs: ['0XRlCDp99MEaPDRWTUXmep', '10FC7rI5KzGmyTHowOoebw', '2NRs1KLd5q5KFYjYkL8WJD', '5S8jc9sCle880PjbwnEzsY', '3pT5vtG177l2jrxpPy76jB', '3Ma9wMAvD9ZFCecsOragUl', '6kpmnuqqUh5UFk6CVuSry2', '0SCxM2hWDyKW0WZfDzPb9h', '4jzlvo0SdmUZGAjZSvmREI', '67p2FNw6LervXFDE36ECAt', '2UmpLFu6fH8L7DaLjHLDGD', '5aGms4E0gTWWgAwWXb8zUd', '1Lxz75rWNoVAjT7APZDz7h', '28oSjVeTIM8v1LrXmoo2GA', '47XtK2ErrSTignWpa2VlkQ', '2TNwH1GLmKSFugnCKenHoG', '3sU662XXk5o2piJKZGFUdq', '29V5bJ17rBQ3XUyge4hXa9', '7FQWPif2kOYVLQEW1G73Dh', '4vYvv6ODTNaEn3Do2CFpCc']\n",
      "dict_keys(['album', 'artist_id', 'artist', 'duration_s', 'name', 'popularity', 'id', 'genres'])\n"
     ]
    }
   ],
   "source": [
    "# Initialize an empty list to store the results\n",
    "track_data = {}\n",
    "\n",
    "# Set the batch size (max 50 for Spotify API)\n",
    "batch_size = 20\n",
    "\n",
    "# Get the total number of saved tracks\n",
    "total_tracks = sp.current_user_saved_tracks(limit=1)['total']\n",
    "print(f\"Total tracks: {total_tracks}\")\n",
    "\n",
    "total_tracks = 60\n",
    "# Loop through batches of saved tracks\n",
    "for offset in range(0, total_tracks, batch_size):\n",
    "    tracks = sp.current_user_saved_tracks(limit=batch_size, offset=offset)\n",
    "    track_ids = [item['track']['id'] for item in tracks['items']]\n",
    "    print(f\"Track IDs: {track_ids}\")    \n",
    "    # Apply the get_audio_features_and_analysis function\n",
    "    track_data_old = get_genres(track_ids, sp)\n",
    "    # Append the result to the list\n",
    "    if offset==0:\n",
    "        track_data=track_data_old\n",
    "    else:\n",
    "        for key in track_data:\n",
    "            track_data[key]+=track_data_old[key]\n",
    "    \n",
    "print(track_data.keys())\n",
    "# Print or process the results as needed\n",
    "# for result in results:\n",
    "#     print(\"---\")\n",
    "#     print(json.dumps(result, indent=4))"
   ]
  },
  {
   "cell_type": "code",
   "execution_count": 4,
   "metadata": {},
   "outputs": [
    {
     "name": "stdout",
     "output_type": "stream",
     "text": [
      "[['album rock', 'classic rock', 'mellow gold', 'rock', 'singer-songwriter', 'soft rock', 'yacht rock'], ['puerto rican indie', 'tropical alternativo'], ['hypnagogic pop'], ['slacker rock'], [], [], [], ['indie punk', 'indie rock', 'philly indie'], [], [], [], [], ['latin afrobeat', 'latintronica'], ['tropical alternativo'], ['tropical alternativo'], [], ['indie folk argentino'], ['instrumental funk'], [], ['alternative metal', 'art rock', 'nu metal', 'post-grunge', 'progressive metal', 'progressive rock', 'rock'], ['alternative metal', 'art rock', 'nu metal', 'post-grunge', 'progressive metal', 'progressive rock', 'rock'], ['alternative metal', 'art rock', 'nu metal', 'post-grunge', 'progressive metal', 'progressive rock', 'rock'], ['alternative metal', 'art rock', 'nu metal', 'post-grunge', 'progressive metal', 'progressive rock', 'rock'], ['alternative metal', 'art rock', 'nu metal', 'post-grunge', 'progressive metal', 'progressive rock', 'rock'], ['j-rock', 'japanese alternative rock'], ['j-rock', 'japanese alternative rock'], ['j-rock', 'japanese alternative rock'], ['j-indie', 'japanese garage rock'], ['j-indie', 'japanese garage rock'], ['j-indie', 'japanese garage rock'], ['j-indie', 'japanese garage rock'], ['j-indie', 'japanese garage rock'], ['j-indie', 'japanese garage rock'], ['j-indie', 'japanese garage rock'], ['japanese emo', 'japanese post-rock', 'japanese shoegaze'], ['japanese emo', 'japanese post-rock', 'japanese shoegaze'], ['japanese emo', 'japanese post-rock', 'japanese shoegaze'], ['japanese emo', 'japanese post-rock', 'japanese shoegaze'], ['japanese emo', 'japanese post-rock', 'japanese shoegaze'], ['japanese emo', 'japanese post-rock', 'japanese shoegaze'], ['japanese emo', 'japanese post-rock', 'japanese shoegaze'], ['japanese emo', 'japanese post-rock', 'japanese shoegaze'], ['japanese emo', 'japanese post-rock', 'japanese shoegaze'], ['japanese emo', 'japanese post-rock', 'japanese shoegaze'], ['japanese emo', 'japanese post-rock', 'japanese shoegaze'], ['japanese alternative rock', 'japanese indie pop'], ['japanese alternative rock', 'japanese indie pop'], ['japanese alternative rock', 'japanese indie pop'], ['japanese alternative rock', 'japanese indie pop'], ['japanese alternative rock', 'japanese indie pop'], ['japanese alternative rock', 'japanese indie pop'], ['japanese dream pop', 'japanese shoegaze'], ['japanese dream pop', 'japanese shoegaze'], ['japanese indie rock', 'kansai indie'], ['japanese shoegaze'], ['japanese shoegaze'], ['canadian psychedelic rock', 'neo-psychedelic', 'psych gaze'], ['german stoner rock', 'space rock', 'stoner metal', 'stoner rock'], ['psych gaze', 'scottish shoegaze', 'uk stoner rock'], ['british folk', 'british invasion', 'classic rock', 'folk', 'folk rock', 'glam rock', 'psychedelic folk', 'psychedelic rock', 'scottish singer-songwriter', 'singer-songwriter']]\n",
      "60\n"
     ]
    }
   ],
   "source": [
    "print(track_data['genres'])\n",
    "print(len(track_data['id']))"
   ]
  },
  {
   "cell_type": "code",
   "execution_count": 5,
   "metadata": {},
   "outputs": [
    {
     "name": "stdout",
     "output_type": "stream",
     "text": [
      "{'4o6BgsqLIBViaGVbx5rbRk': ['album rock', 'classic rock', 'mellow gold', 'rock', 'singer-songwriter', 'soft rock', 'yacht rock'], '5t4rndvpGfblr16xsSZCZ2': ['puerto rican indie', 'tropical alternativo'], '05HbL11gtNMrCPFadpwoRg': ['hypnagogic pop'], '4de8RbgaXo4j0skA36mPU2': ['slacker rock'], '1tPOHHQY0x7uUNAHnwTjlx': [], '3mUM0957VDc8b5ynZr1Gpn': [], '5Q2yV1wgKENv1XsCTB7nma': [], '6NQXCldnycOtVhlh33uHRr': ['indie punk', 'indie rock', 'philly indie'], '35o92ikbXQApq9xBjLgbnV': [], '596eSWS6SoVNLoe9h1CMXn': [], '0ClP3NmCW8WBitkdFqKJ0x': [], '0RtxITcYXbdcoDXhwAgNWd': [], '6F7nb8f7ty7P4vLQeFL1lq': ['latin afrobeat', 'latintronica'], '6Mc4X5zjF3GtHPvIrs14fe': ['tropical alternativo'], '1dLUGmTp8Fy9Sl0p2Tn7T1': ['tropical alternativo'], '5is0Z9t8qzQt3bWFgbhYTw': [], '4m1h2nXCfcDfRY3WPY21ko': ['indie folk argentino'], '66IrwRUKnmMPiYpBfEGYCm': ['instrumental funk'], '2GXA1T0GBh3pXZMTA50OhL': [], '0pwObEOHolQZSldJ2q1wpy': ['alternative metal', 'art rock', 'nu metal', 'post-grunge', 'progressive metal', 'progressive rock', 'rock'], '6AioOohg4bQZFA4jIYQQ2r': ['alternative metal', 'art rock', 'nu metal', 'post-grunge', 'progressive metal', 'progressive rock', 'rock'], '1lATXTBJDHwawvT1UfxWu3': ['alternative metal', 'art rock', 'nu metal', 'post-grunge', 'progressive metal', 'progressive rock', 'rock'], '6DyywdbmTzlmXBzG9ym7Rt': ['alternative metal', 'art rock', 'nu metal', 'post-grunge', 'progressive metal', 'progressive rock', 'rock'], '55mJleti2WfWEFNFcBduhc': ['alternative metal', 'art rock', 'nu metal', 'post-grunge', 'progressive metal', 'progressive rock', 'rock'], '2hnrioxoZCljW6VbbO0Bvv': ['j-rock', 'japanese alternative rock'], '54zCGbgOeaOXsEFLgLuwzB': ['j-rock', 'japanese alternative rock'], '7upG8kgnfF4yfaOGNKHXJg': ['j-rock', 'japanese alternative rock'], '7anlKmDzahsUb5dlDhrYYr': ['j-indie', 'japanese garage rock'], '53Gs2a7kV4h6tBN0fCTtUY': ['j-indie', 'japanese garage rock'], '3ZWPE72rn7gB2uHFe5s0HJ': ['j-indie', 'japanese garage rock'], '4nrdKOChOn750sd3tI40OE': ['j-indie', 'japanese garage rock'], '0UqwIL59AsdSTdmewiWXvj': ['j-indie', 'japanese garage rock'], '09fNyeCFUbrTor4DY7kX2b': ['j-indie', 'japanese garage rock'], '7GbNB9IGxXN9QiX8x83TXI': ['j-indie', 'japanese garage rock'], '07aCEOE0LXRa0cxdrrpWlH': ['japanese emo', 'japanese post-rock', 'japanese shoegaze'], '3MZgRR5kAyMcgnn3LuhgQK': ['japanese emo', 'japanese post-rock', 'japanese shoegaze'], '6xnl08BI56Ej3dnGRqc6rD': ['japanese emo', 'japanese post-rock', 'japanese shoegaze'], '5hA2fMYVdzmy1QTgyhcwkZ': ['japanese emo', 'japanese post-rock', 'japanese shoegaze'], '6iENYbkeXO848sFHX3HzJE': ['japanese emo', 'japanese post-rock', 'japanese shoegaze'], '5xZcxt2Qxd2NjxpvUlgsZo': ['japanese emo', 'japanese post-rock', 'japanese shoegaze'], '0XRlCDp99MEaPDRWTUXmep': ['japanese emo', 'japanese post-rock', 'japanese shoegaze'], '10FC7rI5KzGmyTHowOoebw': ['japanese emo', 'japanese post-rock', 'japanese shoegaze'], '2NRs1KLd5q5KFYjYkL8WJD': ['japanese emo', 'japanese post-rock', 'japanese shoegaze'], '5S8jc9sCle880PjbwnEzsY': ['japanese emo', 'japanese post-rock', 'japanese shoegaze'], '3pT5vtG177l2jrxpPy76jB': ['japanese emo', 'japanese post-rock', 'japanese shoegaze'], '3Ma9wMAvD9ZFCecsOragUl': ['japanese alternative rock', 'japanese indie pop'], '6kpmnuqqUh5UFk6CVuSry2': ['japanese alternative rock', 'japanese indie pop'], '0SCxM2hWDyKW0WZfDzPb9h': ['japanese alternative rock', 'japanese indie pop'], '4jzlvo0SdmUZGAjZSvmREI': ['japanese alternative rock', 'japanese indie pop'], '67p2FNw6LervXFDE36ECAt': ['japanese alternative rock', 'japanese indie pop'], '2UmpLFu6fH8L7DaLjHLDGD': ['japanese alternative rock', 'japanese indie pop'], '5aGms4E0gTWWgAwWXb8zUd': ['japanese dream pop', 'japanese shoegaze'], '1Lxz75rWNoVAjT7APZDz7h': ['japanese dream pop', 'japanese shoegaze'], '28oSjVeTIM8v1LrXmoo2GA': ['japanese indie rock', 'kansai indie'], '47XtK2ErrSTignWpa2VlkQ': ['japanese shoegaze'], '2TNwH1GLmKSFugnCKenHoG': ['japanese shoegaze'], '3sU662XXk5o2piJKZGFUdq': ['canadian psychedelic rock', 'neo-psychedelic', 'psych gaze'], '29V5bJ17rBQ3XUyge4hXa9': ['german stoner rock', 'space rock', 'stoner metal', 'stoner rock'], '7FQWPif2kOYVLQEW1G73Dh': ['psych gaze', 'scottish shoegaze', 'uk stoner rock'], '4vYvv6ODTNaEn3Do2CFpCc': ['british folk', 'british invasion', 'classic rock', 'folk', 'folk rock', 'glam rock', 'psychedelic folk', 'psychedelic rock', 'scottish singer-songwriter', 'singer-songwriter']}\n"
     ]
    }
   ],
   "source": [
    "genre_dict= dict(zip(track_data['id'],track_data['genres']))\n",
    "print(genre_dict)\n"
   ]
  },
  {
   "cell_type": "code",
   "execution_count": 6,
   "metadata": {},
   "outputs": [
    {
     "name": "stdout",
     "output_type": "stream",
     "text": [
      "['album rock', 'classic rock', 'mellow gold', 'rock', 'singer-songwriter', 'soft rock', 'yacht rock', 'puerto rican indie', 'tropical alternativo', 'hypnagogic pop', 'slacker rock', 'indie punk', 'indie rock', 'philly indie', 'latin afrobeat', 'latintronica', 'indie folk argentino', 'instrumental funk', 'alternative metal', 'art rock', 'nu metal', 'post-grunge', 'progressive metal', 'progressive rock', 'j-rock', 'japanese alternative rock', 'j-indie', 'japanese garage rock', 'japanese emo', 'japanese post-rock', 'japanese shoegaze', 'japanese indie pop', 'japanese dream pop', 'japanese indie rock', 'kansai indie', 'canadian psychedelic rock', 'neo-psychedelic', 'psych gaze', 'german stoner rock', 'space rock', 'stoner metal', 'stoner rock', 'scottish shoegaze', 'uk stoner rock', 'british folk', 'british invasion', 'folk', 'folk rock', 'glam rock', 'psychedelic folk', 'psychedelic rock', 'scottish singer-songwriter', 'no genre']\n"
     ]
    }
   ],
   "source": [
    "genre_list=[]\n",
    "for song in genre_dict:\n",
    "    for genre in genre_dict[song]:\n",
    "        if genre not in genre_list:\n",
    "            genre_list.append(genre)\n",
    "\n",
    "genre_list.append('no genre')\n",
    "print(genre_list)"
   ]
  },
  {
   "cell_type": "code",
   "execution_count": 7,
   "metadata": {},
   "outputs": [
    {
     "name": "stdout",
     "output_type": "stream",
     "text": [
      "53\n",
      "{'album rock': ['4o6BgsqLIBViaGVbx5rbRk'], 'classic rock': ['4o6BgsqLIBViaGVbx5rbRk', '4vYvv6ODTNaEn3Do2CFpCc'], 'mellow gold': ['4o6BgsqLIBViaGVbx5rbRk'], 'rock': ['4o6BgsqLIBViaGVbx5rbRk', '0pwObEOHolQZSldJ2q1wpy', '6AioOohg4bQZFA4jIYQQ2r', '1lATXTBJDHwawvT1UfxWu3', '6DyywdbmTzlmXBzG9ym7Rt', '55mJleti2WfWEFNFcBduhc'], 'singer-songwriter': ['4o6BgsqLIBViaGVbx5rbRk', '4vYvv6ODTNaEn3Do2CFpCc'], 'soft rock': ['4o6BgsqLIBViaGVbx5rbRk'], 'yacht rock': ['4o6BgsqLIBViaGVbx5rbRk'], 'puerto rican indie': ['5t4rndvpGfblr16xsSZCZ2'], 'tropical alternativo': ['5t4rndvpGfblr16xsSZCZ2', '6Mc4X5zjF3GtHPvIrs14fe', '1dLUGmTp8Fy9Sl0p2Tn7T1'], 'hypnagogic pop': ['05HbL11gtNMrCPFadpwoRg'], 'slacker rock': ['4de8RbgaXo4j0skA36mPU2'], 'indie punk': ['6NQXCldnycOtVhlh33uHRr'], 'indie rock': ['6NQXCldnycOtVhlh33uHRr'], 'philly indie': ['6NQXCldnycOtVhlh33uHRr'], 'latin afrobeat': ['6F7nb8f7ty7P4vLQeFL1lq'], 'latintronica': ['6F7nb8f7ty7P4vLQeFL1lq'], 'indie folk argentino': ['4m1h2nXCfcDfRY3WPY21ko'], 'instrumental funk': ['66IrwRUKnmMPiYpBfEGYCm'], 'alternative metal': ['0pwObEOHolQZSldJ2q1wpy', '6AioOohg4bQZFA4jIYQQ2r', '1lATXTBJDHwawvT1UfxWu3', '6DyywdbmTzlmXBzG9ym7Rt', '55mJleti2WfWEFNFcBduhc'], 'art rock': ['0pwObEOHolQZSldJ2q1wpy', '6AioOohg4bQZFA4jIYQQ2r', '1lATXTBJDHwawvT1UfxWu3', '6DyywdbmTzlmXBzG9ym7Rt', '55mJleti2WfWEFNFcBduhc'], 'nu metal': ['0pwObEOHolQZSldJ2q1wpy', '6AioOohg4bQZFA4jIYQQ2r', '1lATXTBJDHwawvT1UfxWu3', '6DyywdbmTzlmXBzG9ym7Rt', '55mJleti2WfWEFNFcBduhc'], 'post-grunge': ['0pwObEOHolQZSldJ2q1wpy', '6AioOohg4bQZFA4jIYQQ2r', '1lATXTBJDHwawvT1UfxWu3', '6DyywdbmTzlmXBzG9ym7Rt', '55mJleti2WfWEFNFcBduhc'], 'progressive metal': ['0pwObEOHolQZSldJ2q1wpy', '6AioOohg4bQZFA4jIYQQ2r', '1lATXTBJDHwawvT1UfxWu3', '6DyywdbmTzlmXBzG9ym7Rt', '55mJleti2WfWEFNFcBduhc'], 'progressive rock': ['0pwObEOHolQZSldJ2q1wpy', '6AioOohg4bQZFA4jIYQQ2r', '1lATXTBJDHwawvT1UfxWu3', '6DyywdbmTzlmXBzG9ym7Rt', '55mJleti2WfWEFNFcBduhc'], 'j-rock': ['2hnrioxoZCljW6VbbO0Bvv', '54zCGbgOeaOXsEFLgLuwzB', '7upG8kgnfF4yfaOGNKHXJg'], 'japanese alternative rock': ['2hnrioxoZCljW6VbbO0Bvv', '54zCGbgOeaOXsEFLgLuwzB', '7upG8kgnfF4yfaOGNKHXJg', '3Ma9wMAvD9ZFCecsOragUl', '6kpmnuqqUh5UFk6CVuSry2', '0SCxM2hWDyKW0WZfDzPb9h', '4jzlvo0SdmUZGAjZSvmREI', '67p2FNw6LervXFDE36ECAt', '2UmpLFu6fH8L7DaLjHLDGD'], 'j-indie': ['7anlKmDzahsUb5dlDhrYYr', '53Gs2a7kV4h6tBN0fCTtUY', '3ZWPE72rn7gB2uHFe5s0HJ', '4nrdKOChOn750sd3tI40OE', '0UqwIL59AsdSTdmewiWXvj', '09fNyeCFUbrTor4DY7kX2b', '7GbNB9IGxXN9QiX8x83TXI'], 'japanese garage rock': ['7anlKmDzahsUb5dlDhrYYr', '53Gs2a7kV4h6tBN0fCTtUY', '3ZWPE72rn7gB2uHFe5s0HJ', '4nrdKOChOn750sd3tI40OE', '0UqwIL59AsdSTdmewiWXvj', '09fNyeCFUbrTor4DY7kX2b', '7GbNB9IGxXN9QiX8x83TXI'], 'japanese emo': ['07aCEOE0LXRa0cxdrrpWlH', '3MZgRR5kAyMcgnn3LuhgQK', '6xnl08BI56Ej3dnGRqc6rD', '5hA2fMYVdzmy1QTgyhcwkZ', '6iENYbkeXO848sFHX3HzJE', '5xZcxt2Qxd2NjxpvUlgsZo', '0XRlCDp99MEaPDRWTUXmep', '10FC7rI5KzGmyTHowOoebw', '2NRs1KLd5q5KFYjYkL8WJD', '5S8jc9sCle880PjbwnEzsY', '3pT5vtG177l2jrxpPy76jB'], 'japanese post-rock': ['07aCEOE0LXRa0cxdrrpWlH', '3MZgRR5kAyMcgnn3LuhgQK', '6xnl08BI56Ej3dnGRqc6rD', '5hA2fMYVdzmy1QTgyhcwkZ', '6iENYbkeXO848sFHX3HzJE', '5xZcxt2Qxd2NjxpvUlgsZo', '0XRlCDp99MEaPDRWTUXmep', '10FC7rI5KzGmyTHowOoebw', '2NRs1KLd5q5KFYjYkL8WJD', '5S8jc9sCle880PjbwnEzsY', '3pT5vtG177l2jrxpPy76jB'], 'japanese shoegaze': ['07aCEOE0LXRa0cxdrrpWlH', '3MZgRR5kAyMcgnn3LuhgQK', '6xnl08BI56Ej3dnGRqc6rD', '5hA2fMYVdzmy1QTgyhcwkZ', '6iENYbkeXO848sFHX3HzJE', '5xZcxt2Qxd2NjxpvUlgsZo', '0XRlCDp99MEaPDRWTUXmep', '10FC7rI5KzGmyTHowOoebw', '2NRs1KLd5q5KFYjYkL8WJD', '5S8jc9sCle880PjbwnEzsY', '3pT5vtG177l2jrxpPy76jB', '5aGms4E0gTWWgAwWXb8zUd', '1Lxz75rWNoVAjT7APZDz7h', '47XtK2ErrSTignWpa2VlkQ', '2TNwH1GLmKSFugnCKenHoG'], 'japanese indie pop': ['3Ma9wMAvD9ZFCecsOragUl', '6kpmnuqqUh5UFk6CVuSry2', '0SCxM2hWDyKW0WZfDzPb9h', '4jzlvo0SdmUZGAjZSvmREI', '67p2FNw6LervXFDE36ECAt', '2UmpLFu6fH8L7DaLjHLDGD'], 'japanese dream pop': ['5aGms4E0gTWWgAwWXb8zUd', '1Lxz75rWNoVAjT7APZDz7h'], 'japanese indie rock': ['28oSjVeTIM8v1LrXmoo2GA'], 'kansai indie': ['28oSjVeTIM8v1LrXmoo2GA'], 'canadian psychedelic rock': ['3sU662XXk5o2piJKZGFUdq'], 'neo-psychedelic': ['3sU662XXk5o2piJKZGFUdq'], 'psych gaze': ['3sU662XXk5o2piJKZGFUdq', '7FQWPif2kOYVLQEW1G73Dh'], 'german stoner rock': ['29V5bJ17rBQ3XUyge4hXa9'], 'space rock': ['29V5bJ17rBQ3XUyge4hXa9'], 'stoner metal': ['29V5bJ17rBQ3XUyge4hXa9'], 'stoner rock': ['29V5bJ17rBQ3XUyge4hXa9'], 'scottish shoegaze': ['7FQWPif2kOYVLQEW1G73Dh'], 'uk stoner rock': ['7FQWPif2kOYVLQEW1G73Dh'], 'british folk': ['4vYvv6ODTNaEn3Do2CFpCc'], 'british invasion': ['4vYvv6ODTNaEn3Do2CFpCc'], 'folk': ['4vYvv6ODTNaEn3Do2CFpCc'], 'folk rock': ['4vYvv6ODTNaEn3Do2CFpCc'], 'glam rock': ['4vYvv6ODTNaEn3Do2CFpCc'], 'psychedelic folk': ['4vYvv6ODTNaEn3Do2CFpCc'], 'psychedelic rock': ['4vYvv6ODTNaEn3Do2CFpCc'], 'scottish singer-songwriter': ['4vYvv6ODTNaEn3Do2CFpCc'], 'no genre': ['1tPOHHQY0x7uUNAHnwTjlx', '3mUM0957VDc8b5ynZr1Gpn', '5Q2yV1wgKENv1XsCTB7nma', '35o92ikbXQApq9xBjLgbnV', '596eSWS6SoVNLoe9h1CMXn', '0ClP3NmCW8WBitkdFqKJ0x', '0RtxITcYXbdcoDXhwAgNWd', '5is0Z9t8qzQt3bWFgbhYTw', '2GXA1T0GBh3pXZMTA50OhL']}\n",
      "9\n"
     ]
    }
   ],
   "source": [
    "playlist_dict={}\n",
    "no_genre_songs=[]\n",
    "for genre in genre_list:\n",
    "    song_list=[]\n",
    "    for song in genre_dict:\n",
    "        if genre in genre_dict[song] and song not in song_list:\n",
    "            song_list.append(song)\n",
    "        if not genre_dict[song] and song not in no_genre_songs:\n",
    "            no_genre_songs.append(song)\n",
    "\n",
    "    playlist_dict[genre]=song_list\n",
    "\n",
    "playlist_dict['no genre']=no_genre_songs\n",
    "\n",
    "\n",
    "print(len(list(playlist_dict.keys())))\n",
    "print(playlist_dict)\n",
    "print(len(playlist_dict['no genre']))\n"
   ]
  },
  {
   "cell_type": "code",
   "execution_count": 8,
   "metadata": {},
   "outputs": [
    {
     "name": "stdout",
     "output_type": "stream",
     "text": [
      "50\n",
      "50\n",
      "50\n",
      "11\n"
     ]
    }
   ],
   "source": [
    "batch_size=50\n",
    "user_playlists=[]\n",
    "\n",
    "for offset in range(0, 9000, batch_size):\n",
    "    user_playlists_batch=sp.user_playlists(user=target_user_id,limit=batch_size,offset=offset)\n",
    "    user_playlists += user_playlists_batch[\"items\"]\n",
    "    print(len(user_playlists_batch[\"items\"]))\n",
    "    if len(user_playlists_batch[\"items\"]) < batch_size:\n",
    "        break"
   ]
  },
  {
   "cell_type": "code",
   "execution_count": 9,
   "metadata": {},
   "outputs": [
    {
     "name": "stdout",
     "output_type": "stream",
     "text": [
      "<class 'list'>\n",
      "7\n",
      "<class 'dict'>\n",
      "50\n",
      "161\n",
      "{\n",
      "  \"collaborative\": false,\n",
      "  \"description\": \"\",\n",
      "  \"external_urls\": {\n",
      "    \"spotify\": \"https://open.spotify.com/playlist/6ELXc3NZxHrXBKZhD2vBb5\"\n",
      "  },\n",
      "  \"href\": \"https://api.spotify.com/v1/playlists/6ELXc3NZxHrXBKZhD2vBb5\",\n",
      "  \"id\": \"6ELXc3NZxHrXBKZhD2vBb5\",\n",
      "  \"images\": [\n",
      "    {\n",
      "      \"height\": 640,\n",
      "      \"url\": \"https://mosaic.scdn.co/640/ab67616d00001e020e03e06e3dab5d79175206dbab67616d00001e02618e438409038bcd054d1ca7ab67616d00001e029dbaf7f48c95b0d32194b56fab67616d00001e02af9652377659e3edbbcd5cdc\",\n",
      "      \"width\": 640\n",
      "    },\n",
      "    {\n",
      "      \"height\": 300,\n",
      "      \"url\": \"https://mosaic.scdn.co/300/ab67616d00001e020e03e06e3dab5d79175206dbab67616d00001e02618e438409038bcd054d1ca7ab67616d00001e029dbaf7f48c95b0d32194b56fab67616d00001e02af9652377659e3edbbcd5cdc\",\n",
      "      \"width\": 300\n",
      "    },\n",
      "    {\n",
      "      \"height\": 60,\n",
      "      \"url\": \"https://mosaic.scdn.co/60/ab67616d00001e020e03e06e3dab5d79175206dbab67616d00001e02618e438409038bcd054d1ca7ab67616d00001e029dbaf7f48c95b0d32194b56fab67616d00001e02af9652377659e3edbbcd5cdc\",\n",
      "      \"width\": 60\n",
      "    }\n",
      "  ],\n",
      "  \"name\": \"no genre\",\n",
      "  \"owner\": {\n",
      "    \"display_name\": \"Massimo\",\n",
      "    \"external_urls\": {\n",
      "      \"spotify\": \"https://open.spotify.com/user/31ighcy6cpa3jsteh7imcasje2ea\"\n",
      "    },\n",
      "    \"href\": \"https://api.spotify.com/v1/users/31ighcy6cpa3jsteh7imcasje2ea\",\n",
      "    \"id\": \"31ighcy6cpa3jsteh7imcasje2ea\",\n",
      "    \"type\": \"user\",\n",
      "    \"uri\": \"spotify:user:31ighcy6cpa3jsteh7imcasje2ea\"\n",
      "  },\n",
      "  \"primary_color\": null,\n",
      "  \"public\": true,\n",
      "  \"snapshot_id\": \"AAAAAsi3Kql+Z3SEm+IVi8ztr1dpkqVZ\",\n",
      "  \"tracks\": {\n",
      "    \"href\": \"https://api.spotify.com/v1/playlists/6ELXc3NZxHrXBKZhD2vBb5/tracks\",\n",
      "    \"total\": 9\n",
      "  },\n",
      "  \"type\": \"playlist\",\n",
      "  \"uri\": \"spotify:playlist:6ELXc3NZxHrXBKZhD2vBb5\"\n",
      "}\n"
     ]
    }
   ],
   "source": [
    "uplaylist_test=sp.user_playlists(user=target_user_id)\n",
    "print(type(user_playlists_batch['items']))\n",
    "print(len(uplaylist_test))\n",
    "print(type(uplaylist_test))\n",
    "print(len(uplaylist_test[\"items\"]))\n",
    "#print(json.dumps(uplaylist_test,indent=2))\n",
    "print(len(user_playlists))\n",
    "print(json.dumps(user_playlists[0],indent=2))\n",
    "#ignore this cell"
   ]
  },
  {
   "cell_type": "code",
   "execution_count": 10,
   "metadata": {},
   "outputs": [],
   "source": [
    "for key in list(playlist_dict.keys()):\n",
    "    for playlist in user_playlists:\n",
    "        if playlist['name'] == key:\n",
    "            x=sp.user_playlist_unfollow(user=target_user_id,playlist_id=playlist['id']) \n",
    "            #unfollow cleans the account from any playlist with the same name\n",
    "\n",
    "    playlist_created=sp.user_playlist_create(user=target_user_id,name=key,public=True,collaborative=False,description='')\n",
    "    #creates the playlist for the name 'key'\n",
    "\n",
    "    for songs in playlist_dict[key]:\n",
    "        playlist_songlist=sp.user_playlist_add_tracks(user=target_user_id, playlist_id=playlist_created['id'], tracks=playlist_dict[key], position=None)\n",
    "    #adds songs saved in the genre-songs dictionary in the playlist created before"
   ]
  },
  {
   "cell_type": "code",
   "execution_count": null,
   "metadata": {},
   "outputs": [],
   "source": []
  }
 ],
 "metadata": {
  "kernelspec": {
   "display_name": "Python 3",
   "language": "python",
   "name": "python3"
  },
  "language_info": {
   "codemirror_mode": {
    "name": "ipython",
    "version": 3
   },
   "file_extension": ".py",
   "mimetype": "text/x-python",
   "name": "python",
   "nbconvert_exporter": "python",
   "pygments_lexer": "ipython3",
   "version": "3.11.5"
  }
 },
 "nbformat": 4,
 "nbformat_minor": 2
}
